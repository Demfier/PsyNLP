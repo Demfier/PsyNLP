{
 "cells": [
  {
   "cell_type": "code",
   "execution_count": 104,
   "metadata": {},
   "outputs": [
    {
     "name": "stdout",
     "output_type": "stream",
     "text": [
      "dict_keys(['V;NFIN', 'V;PST', 'V;V.PTCP;PRS', 'V;V.PTCP;PST', 'V;3;SG;PRS'])\n",
      "25 41\n"
     ]
    }
   ],
   "source": [
    "\n",
    "from psynlp.core.fca import FCA\n",
    "from psynlp.helpers.importers import init_concept_from_wordpairs, fetch_testing_data, parse_metadata_words, parse_metadata_fca\n",
    "\n",
    "pac = parse_metadata_fca(parse_metadata_words(language='english', quality='low'), 'deterministic')\n",
    "print(pac.keys())\n",
    "a_concept = pac['V;PST'][0]\n",
    "cytoscape_json = a_concept.convert2cytoscapejson()\n",
    "print(len(cytoscape_json[\"elements\"][\"nodes\"]), len(cytoscape_json[\"elements\"][\"edges\"]))"
   ]
  },
  {
   "cell_type": "code",
   "execution_count": 108,
   "metadata": {
    "collapsed": true
   },
   "outputs": [],
   "source": [
    "from jinja2 import Template\n",
    "from IPython.display import IFrame, display\n",
    "\n",
    "def visualize_in_notebook(concept, save_to_filename='sample'):\n",
    "    json_filepath = \"visual/{}.json\".format(save_to_filename)\n",
    "    html_filepath = \"visual/{}.html\".format(save_to_filename)\n",
    "    html_template_path = 'visual/cytoscape.tmpl'\n",
    "    \n",
    "    json_dump = concept.convert2cytoscapejson()\n",
    "    with open(json_filepath, 'w') as jout:\n",
    "        jout.write(\"data = '\" + json.dumps(json_dump) + \"';\")\n",
    "\n",
    "    template = Template(open(html_template_path, 'r').read())\n",
    "    html = template.render(filename=save_to_filename)\n",
    "    file_handle = open(html_filepath, 'w')\n",
    "    file_handle.write(html)\n",
    "\n",
    "\n",
    "    display(IFrame(\"http://localhost:8000/{}.html\".format(save_to_filename), width=1000, height=600))\n"
   ]
  },
  {
   "cell_type": "code",
   "execution_count": 109,
   "metadata": {},
   "outputs": [
    {
     "data": {
      "text/html": [
       "\n",
       "        <iframe\n",
       "            width=\"1000\"\n",
       "            height=\"600\"\n",
       "            src=\"http://localhost:8000/sample.html\"\n",
       "            frameborder=\"0\"\n",
       "            allowfullscreen\n",
       "        ></iframe>\n",
       "        "
      ],
      "text/plain": [
       "<IPython.lib.display.IFrame at 0x11447c630>"
      ]
     },
     "metadata": {},
     "output_type": "display_data"
    }
   ],
   "source": [
    "visualize_in_notebook(a_concept)"
   ]
  }
 ],
 "metadata": {
  "kernelspec": {
   "display_name": "Python 3",
   "language": "python",
   "name": "python3"
  },
  "language_info": {
   "codemirror_mode": {
    "name": "ipython",
    "version": 3
   },
   "file_extension": ".py",
   "mimetype": "text/x-python",
   "name": "python",
   "nbconvert_exporter": "python",
   "pygments_lexer": "ipython3",
   "version": "3.6.5"
  }
 },
 "nbformat": 4,
 "nbformat_minor": 2
}
